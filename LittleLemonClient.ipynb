{
 "cells": [
  {
   "cell_type": "code",
   "execution_count": null,
   "id": "67c21234",
   "metadata": {},
   "outputs": [],
   "source": [
    "EXERCISE 1: CLIENT PROJECT SET-UP"
   ]
  },
  {
   "cell_type": "markdown",
   "id": "065c554a",
   "metadata": {},
   "source": [
    "TASK 1: CONFIRM PYTHON VERSION"
   ]
  },
  {
   "cell_type": "code",
   "execution_count": 1,
   "id": "685d20ae",
   "metadata": {},
   "outputs": [
    {
     "name": "stdout",
     "output_type": "stream",
     "text": [
      "Python version\n",
      "3.9.13 (main, Aug 25 2022, 23:51:50) [MSC v.1916 64 bit (AMD64)]\n",
      "Version info.\n",
      "sys.version_info(major=3, minor=9, micro=13, releaselevel='final', serial=0)\n"
     ]
    }
   ],
   "source": [
    "import sys\n",
    "print(\"Python version\")\n",
    "print(sys.version)\n",
    "print(\"Version info.\")\n",
    "print(sys.version_info)\n"
   ]
  },
  {
   "cell_type": "markdown",
   "id": "8cd6232b",
   "metadata": {},
   "source": [
    "TASK 2: INSTALL JUPYTER (DONE)"
   ]
  },
  {
   "cell_type": "markdown",
   "id": "c18ddc3d",
   "metadata": {},
   "source": [
    "TASK 3 - Step 1: MYSQL CONNECTOR INSTALLATION"
   ]
  },
  {
   "cell_type": "code",
   "execution_count": 2,
   "id": "1574a087",
   "metadata": {},
   "outputs": [
    {
     "name": "stdout",
     "output_type": "stream",
     "text": [
      "Requirement already satisfied: mysql-connector-python in c:\\users\\nhart\\anaconda3\\lib\\site-packages (8.3.0)\n"
     ]
    }
   ],
   "source": [
    "!pip install mysql-connector-python"
   ]
  },
  {
   "cell_type": "code",
   "execution_count": null,
   "id": "7e2100d8",
   "metadata": {},
   "outputs": [],
   "source": [
    "TASK 3 - Step 2: MYSQL CONNECTOR IMPORT"
   ]
  },
  {
   "cell_type": "code",
   "execution_count": 4,
   "id": "67851e81",
   "metadata": {},
   "outputs": [],
   "source": [
    "import mysql.connector as connector\n",
    "from mysql.connector import Error"
   ]
  },
  {
   "cell_type": "markdown",
   "id": "658b08c7",
   "metadata": {},
   "source": [
    "TASK 3 - Step 3: ESTABLISH AND VERIFY CONNECTION"
   ]
  },
  {
   "cell_type": "code",
   "execution_count": 7,
   "id": "b24f96f4",
   "metadata": {},
   "outputs": [
    {
     "name": "stdout",
     "output_type": "stream",
     "text": [
      "Connection to MySQL DB successful\n"
     ]
    }
   ],
   "source": [
    "def create_connection(host_name, user_name, user_password, db_name):\n",
    "    connection = None\n",
    "    \n",
    "    try:\n",
    "        connection = connector.connect(\n",
    "            host=host_name,\n",
    "            user=user_name,\n",
    "            passwd=user_password,\n",
    "            database=db_name\n",
    "        )\n",
    "        if connection.is_connected():\n",
    "            print(\"Connection to MySQL DB successful\")\n",
    "    except Error as e:\n",
    "        print(f\"The error '{e}' occurred\")\n",
    "    return connection\n",
    "\n",
    "# Call the function with actual database credentials\n",
    "\n",
    "host_name = \"localhost\"\n",
    "user_name = \"root\"\n",
    "user_password = \"Fairfield2024!\"\n",
    "db_name = \"littlelemon\"\n",
    "\n",
    "# Pass the actual values when calling the function\n",
    "connection = create_connection(host_name, user_name, user_password, db_name)\n"
   ]
  },
  {
   "cell_type": "markdown",
   "id": "a7ca6438",
   "metadata": {},
   "source": [
    "NOTES FOR LATER REFERENCE\n",
    "\n",
    "connection = mysql.connector.connect(host=\"localhost\", user=\"root\", password=\"Fairfield2024!\",)"
   ]
  },
  {
   "cell_type": "markdown",
   "id": "06efabd2",
   "metadata": {},
   "source": [
    "EXERCISE 2: ADD QUERY FUNCTIONS"
   ]
  },
  {
   "cell_type": "markdown",
   "id": "b328f000",
   "metadata": {},
   "source": [
    "TASK 1: DB PARAMETER SET-UP (DONE AS PART OF EXERCISE 1)"
   ]
  },
  {
   "cell_type": "markdown",
   "id": "62674145",
   "metadata": {},
   "source": [
    "TASK 2: SHOW ALL TABLES IN LITTLELEMON DB"
   ]
  },
  {
   "cell_type": "code",
   "execution_count": 9,
   "id": "00d44701",
   "metadata": {},
   "outputs": [
    {
     "name": "stdout",
     "output_type": "stream",
     "text": [
      "Cursor created successfully\n",
      "('booking',)\n",
      "('customer',)\n",
      "('menu',)\n",
      "('orders',)\n",
      "('ordersview',)\n"
     ]
    }
   ],
   "source": [
    "# Create a cursor from the existing connection\n",
    "cursor = connection.cursor()\n",
    "print(\"Cursor created successfully\")\n",
    "\n",
    "# Return all tables\n",
    "cursor.execute(\"SHOW TABLES;\")\n",
    "tables = cursor.fetchall()\n",
    "for table in tables:\n",
    "    print(table)"
   ]
  },
  {
   "cell_type": "markdown",
   "id": "0ab579ae",
   "metadata": {},
   "source": [
    "TASK 3: JOIN AND TABLE QUERY"
   ]
  },
  {
   "cell_type": "code",
   "execution_count": 11,
   "id": "68a3fedc",
   "metadata": {},
   "outputs": [
    {
     "name": "stdout",
     "output_type": "stream",
     "text": [
      "Cursor created successfully\n",
      "Head (25) of the results:\n",
      "('Jefferson Lauderdale', '516-664-3822', 'Jefale123@email.com', Decimal('125.00'))\n",
      "('Jefferson Lauderdale', '516-664-3822', 'Jefale123@email.com', Decimal('168.27'))\n",
      "('Jefferson Lauderdale', '516-664-3822', 'Jefale123@email.com', Decimal('69.38'))\n",
      "('Jefferson Lauderdale', '516-664-3822', 'Jefale123@email.com', Decimal('190.00'))\n",
      "('Jefferson Lauderdale', '516-664-3822', 'Jefale123@email.com', Decimal('310.00'))\n",
      "('Jefferson Lauderdale', '516-664-3822', 'Jefale123@email.com', Decimal('91.84'))\n",
      "('Jefferson Lauderdale', '516-664-3822', 'Jefale123@email.com', Decimal('320.00'))\n",
      "('Jefferson Lauderdale', '516-664-3822', 'Jefale123@email.com', Decimal('93.13'))\n",
      "('Jefferson Lauderdale', '516-664-3822', 'Jefale123@email.com', Decimal('75.00'))\n",
      "('Jefferson Lauderdale', '516-664-3822', 'Jefale123@email.com', Decimal('144.09'))\n",
      "('Jefferson Lauderdale', '516-664-3822', 'Jefale123@email.com', Decimal('125.00'))\n",
      "('Jefferson Lauderdale', '516-664-3822', 'Jefale123@email.com', Decimal('168.27'))\n",
      "('Jefferson Lauderdale', '516-664-3822', 'Jefale123@email.com', Decimal('69.38'))\n",
      "('Jefferson Lauderdale', '516-664-3822', 'Jefale123@email.com', Decimal('190.00'))\n",
      "('Jefferson Lauderdale', '516-664-3822', 'Jefale123@email.com', Decimal('310.00'))\n",
      "('Jefferson Lauderdale', '516-664-3822', 'Jefale123@email.com', Decimal('91.84'))\n",
      "('Jefferson Lauderdale', '516-664-3822', 'Jefale123@email.com', Decimal('320.00'))\n",
      "('Jefferson Lauderdale', '516-664-3822', 'Jefale123@email.com', Decimal('93.13'))\n",
      "('Jefferson Lauderdale', '516-664-3822', 'Jefale123@email.com', Decimal('75.00'))\n",
      "('Julianna Jostan', '679-870-1401', 'Jultan123@email.com', Decimal('310.00'))\n",
      "('Julianna Jostan', '679-870-1401', 'Jultan123@email.com', Decimal('91.84'))\n",
      "('Julianna Jostan', '679-870-1401', 'Jultan123@email.com', Decimal('320.00'))\n",
      "('Julianna Jostan', '679-870-1401', 'Jultan123@email.com', Decimal('93.13'))\n",
      "('Julianna Jostan', '679-870-1401', 'Jultan123@email.com', Decimal('75.00'))\n",
      "('Julianna Jostan', '679-870-1401', 'Jultan123@email.com', Decimal('144.09'))\n",
      "Total number of rows: 19090\n"
     ]
    }
   ],
   "source": [
    "# Create a cursor from the existing connection\n",
    "cursor = connection.cursor()\n",
    "print(\"Cursor created successfully\")\n",
    "\n",
    "# Define the SQL query as a string\n",
    "query = \"\"\"\n",
    "SELECT \n",
    "    customer.CustomerName, \n",
    "    customer.CustomerPhone, \n",
    "    customer.CustomerEmail, \n",
    "    orders.Cost\n",
    "FROM \n",
    "    orders\n",
    "JOIN \n",
    "    booking ON orders.BookingID = booking.BookingID\n",
    "JOIN \n",
    "    customer ON booking.CustomerID = customer.CustomerID\n",
    "WHERE \n",
    "    orders.Cost > 60;\n",
    "    \n",
    "ORDER BY \n",
    "    orders.Cost DESC\n",
    "    \n",
    "\"\"\"\n",
    "\n",
    "# Execute the query\n",
    "cursor.execute(query)\n",
    "\n",
    "# Fetch all results\n",
    "results = cursor.fetchall()\n",
    "\n",
    "# Print the first 25 rows\n",
    "print(\"Head (25) of the results:\")\n",
    "for row in results[:25]:\n",
    "    print(row)\n",
    "\n",
    "# Print the total number of rows\n",
    "total_rows = len(results)\n",
    "print(f\"Total number of rows: {total_rows}\")\n"
   ]
  },
  {
   "cell_type": "code",
   "execution_count": 12,
   "id": "e1e7ade3",
   "metadata": {},
   "outputs": [
    {
     "data": {
      "text/plain": [
       "True"
      ]
     },
     "execution_count": 12,
     "metadata": {},
     "output_type": "execute_result"
    }
   ],
   "source": [
    "# Close the cursor\n",
    "cursor.close()"
   ]
  },
  {
   "cell_type": "code",
   "execution_count": null,
   "id": "8bc38030",
   "metadata": {},
   "outputs": [],
   "source": []
  }
 ],
 "metadata": {
  "kernelspec": {
   "display_name": "Python 3 (ipykernel)",
   "language": "python",
   "name": "python3"
  },
  "language_info": {
   "codemirror_mode": {
    "name": "ipython",
    "version": 3
   },
   "file_extension": ".py",
   "mimetype": "text/x-python",
   "name": "python",
   "nbconvert_exporter": "python",
   "pygments_lexer": "ipython3",
   "version": "3.9.13"
  }
 },
 "nbformat": 4,
 "nbformat_minor": 5
}
